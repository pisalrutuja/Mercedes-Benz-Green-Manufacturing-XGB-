{
 "cells": [
  {
   "cell_type": "code",
   "execution_count": 1,
   "id": "7f170aac",
   "metadata": {
    "_cell_guid": "b1076dfc-b9ad-4769-8c92-a6c4dae69d19",
    "_uuid": "8f2839f25d086af736a60e9eeb907d3b93b6e0e5",
    "execution": {
     "iopub.execute_input": "2023-02-24T13:47:58.718005Z",
     "iopub.status.busy": "2023-02-24T13:47:58.717377Z",
     "iopub.status.idle": "2023-02-24T13:47:58.737096Z",
     "shell.execute_reply": "2023-02-24T13:47:58.736312Z"
    },
    "papermill": {
     "duration": 0.035942,
     "end_time": "2023-02-24T13:47:58.740386",
     "exception": false,
     "start_time": "2023-02-24T13:47:58.704444",
     "status": "completed"
    },
    "tags": []
   },
   "outputs": [
    {
     "name": "stdout",
     "output_type": "stream",
     "text": [
      "/kaggle/input/mercedesbenz-greener-manufacturing/train.csv\n",
      "/kaggle/input/mercedesbenz-greener-manufacturing/test.csv\n"
     ]
    }
   ],
   "source": [
    "# This Python 3 environment comes with many helpful analytics libraries installed\n",
    "# It is defined by the kaggle/python Docker image: https://github.com/kaggle/docker-python\n",
    "# For example, here's several helpful packages to load\n",
    "\n",
    "import numpy as np # linear algebra\n",
    "import pandas as pd # data processing, CSV file I/O (e.g. pd.read_csv)\n",
    "\n",
    "\n",
    "# Input data files are available in the read-only \"../input/\" directory\n",
    "# For example, running this (by clicking run or pressing Shift+Enter) will list all files under the input directory\n",
    "\n",
    "import os\n",
    "for dirname, _, filenames in os.walk('/kaggle/input'):\n",
    "    for filename in filenames:\n",
    "        print(os.path.join(dirname, filename))\n",
    "\n",
    "# You can write up to 20GB to the current directory (/kaggle/working/) that gets preserved as output when you create a version using \"Save & Run All\" \n",
    "# You can also write temporary files to /kaggle/temp/, but they won't be saved outside of the current session"
   ]
  },
  {
   "cell_type": "code",
   "execution_count": 2,
   "id": "6657b0f9",
   "metadata": {
    "execution": {
     "iopub.execute_input": "2023-02-24T13:47:58.762275Z",
     "iopub.status.busy": "2023-02-24T13:47:58.761283Z",
     "iopub.status.idle": "2023-02-24T13:47:59.193358Z",
     "shell.execute_reply": "2023-02-24T13:47:59.192292Z"
    },
    "papermill": {
     "duration": 0.4462,
     "end_time": "2023-02-24T13:47:59.196060",
     "exception": false,
     "start_time": "2023-02-24T13:47:58.749860",
     "status": "completed"
    },
    "tags": []
   },
   "outputs": [],
   "source": [
    "train = pd.read_csv('/kaggle/input/mercedesbenz-greener-manufacturing/train.csv')\n",
    "test = pd.read_csv('/kaggle/input/mercedesbenz-greener-manufacturing/test.csv')"
   ]
  },
  {
   "cell_type": "code",
   "execution_count": 3,
   "id": "888a70d9",
   "metadata": {
    "execution": {
     "iopub.execute_input": "2023-02-24T13:47:59.215735Z",
     "iopub.status.busy": "2023-02-24T13:47:59.215345Z",
     "iopub.status.idle": "2023-02-24T13:47:59.248410Z",
     "shell.execute_reply": "2023-02-24T13:47:59.247269Z"
    },
    "papermill": {
     "duration": 0.046002,
     "end_time": "2023-02-24T13:47:59.250759",
     "exception": false,
     "start_time": "2023-02-24T13:47:59.204757",
     "status": "completed"
    },
    "tags": []
   },
   "outputs": [
    {
     "data": {
      "text/html": [
       "<div>\n",
       "<style scoped>\n",
       "    .dataframe tbody tr th:only-of-type {\n",
       "        vertical-align: middle;\n",
       "    }\n",
       "\n",
       "    .dataframe tbody tr th {\n",
       "        vertical-align: top;\n",
       "    }\n",
       "\n",
       "    .dataframe thead th {\n",
       "        text-align: right;\n",
       "    }\n",
       "</style>\n",
       "<table border=\"1\" class=\"dataframe\">\n",
       "  <thead>\n",
       "    <tr style=\"text-align: right;\">\n",
       "      <th></th>\n",
       "      <th>ID</th>\n",
       "      <th>y</th>\n",
       "      <th>X0</th>\n",
       "      <th>X1</th>\n",
       "      <th>X2</th>\n",
       "      <th>X3</th>\n",
       "      <th>X4</th>\n",
       "      <th>X5</th>\n",
       "      <th>X6</th>\n",
       "      <th>X8</th>\n",
       "      <th>...</th>\n",
       "      <th>X375</th>\n",
       "      <th>X376</th>\n",
       "      <th>X377</th>\n",
       "      <th>X378</th>\n",
       "      <th>X379</th>\n",
       "      <th>X380</th>\n",
       "      <th>X382</th>\n",
       "      <th>X383</th>\n",
       "      <th>X384</th>\n",
       "      <th>X385</th>\n",
       "    </tr>\n",
       "  </thead>\n",
       "  <tbody>\n",
       "    <tr>\n",
       "      <th>0</th>\n",
       "      <td>0</td>\n",
       "      <td>130.81</td>\n",
       "      <td>k</td>\n",
       "      <td>v</td>\n",
       "      <td>at</td>\n",
       "      <td>a</td>\n",
       "      <td>d</td>\n",
       "      <td>u</td>\n",
       "      <td>j</td>\n",
       "      <td>o</td>\n",
       "      <td>...</td>\n",
       "      <td>0</td>\n",
       "      <td>0</td>\n",
       "      <td>1</td>\n",
       "      <td>0</td>\n",
       "      <td>0</td>\n",
       "      <td>0</td>\n",
       "      <td>0</td>\n",
       "      <td>0</td>\n",
       "      <td>0</td>\n",
       "      <td>0</td>\n",
       "    </tr>\n",
       "    <tr>\n",
       "      <th>1</th>\n",
       "      <td>6</td>\n",
       "      <td>88.53</td>\n",
       "      <td>k</td>\n",
       "      <td>t</td>\n",
       "      <td>av</td>\n",
       "      <td>e</td>\n",
       "      <td>d</td>\n",
       "      <td>y</td>\n",
       "      <td>l</td>\n",
       "      <td>o</td>\n",
       "      <td>...</td>\n",
       "      <td>1</td>\n",
       "      <td>0</td>\n",
       "      <td>0</td>\n",
       "      <td>0</td>\n",
       "      <td>0</td>\n",
       "      <td>0</td>\n",
       "      <td>0</td>\n",
       "      <td>0</td>\n",
       "      <td>0</td>\n",
       "      <td>0</td>\n",
       "    </tr>\n",
       "    <tr>\n",
       "      <th>2</th>\n",
       "      <td>7</td>\n",
       "      <td>76.26</td>\n",
       "      <td>az</td>\n",
       "      <td>w</td>\n",
       "      <td>n</td>\n",
       "      <td>c</td>\n",
       "      <td>d</td>\n",
       "      <td>x</td>\n",
       "      <td>j</td>\n",
       "      <td>x</td>\n",
       "      <td>...</td>\n",
       "      <td>0</td>\n",
       "      <td>0</td>\n",
       "      <td>0</td>\n",
       "      <td>0</td>\n",
       "      <td>0</td>\n",
       "      <td>0</td>\n",
       "      <td>1</td>\n",
       "      <td>0</td>\n",
       "      <td>0</td>\n",
       "      <td>0</td>\n",
       "    </tr>\n",
       "    <tr>\n",
       "      <th>3</th>\n",
       "      <td>9</td>\n",
       "      <td>80.62</td>\n",
       "      <td>az</td>\n",
       "      <td>t</td>\n",
       "      <td>n</td>\n",
       "      <td>f</td>\n",
       "      <td>d</td>\n",
       "      <td>x</td>\n",
       "      <td>l</td>\n",
       "      <td>e</td>\n",
       "      <td>...</td>\n",
       "      <td>0</td>\n",
       "      <td>0</td>\n",
       "      <td>0</td>\n",
       "      <td>0</td>\n",
       "      <td>0</td>\n",
       "      <td>0</td>\n",
       "      <td>0</td>\n",
       "      <td>0</td>\n",
       "      <td>0</td>\n",
       "      <td>0</td>\n",
       "    </tr>\n",
       "    <tr>\n",
       "      <th>4</th>\n",
       "      <td>13</td>\n",
       "      <td>78.02</td>\n",
       "      <td>az</td>\n",
       "      <td>v</td>\n",
       "      <td>n</td>\n",
       "      <td>f</td>\n",
       "      <td>d</td>\n",
       "      <td>h</td>\n",
       "      <td>d</td>\n",
       "      <td>n</td>\n",
       "      <td>...</td>\n",
       "      <td>0</td>\n",
       "      <td>0</td>\n",
       "      <td>0</td>\n",
       "      <td>0</td>\n",
       "      <td>0</td>\n",
       "      <td>0</td>\n",
       "      <td>0</td>\n",
       "      <td>0</td>\n",
       "      <td>0</td>\n",
       "      <td>0</td>\n",
       "    </tr>\n",
       "  </tbody>\n",
       "</table>\n",
       "<p>5 rows × 378 columns</p>\n",
       "</div>"
      ],
      "text/plain": [
       "   ID       y  X0 X1  X2 X3 X4 X5 X6 X8  ...  X375  X376  X377  X378  X379  \\\n",
       "0   0  130.81   k  v  at  a  d  u  j  o  ...     0     0     1     0     0   \n",
       "1   6   88.53   k  t  av  e  d  y  l  o  ...     1     0     0     0     0   \n",
       "2   7   76.26  az  w   n  c  d  x  j  x  ...     0     0     0     0     0   \n",
       "3   9   80.62  az  t   n  f  d  x  l  e  ...     0     0     0     0     0   \n",
       "4  13   78.02  az  v   n  f  d  h  d  n  ...     0     0     0     0     0   \n",
       "\n",
       "   X380  X382  X383  X384  X385  \n",
       "0     0     0     0     0     0  \n",
       "1     0     0     0     0     0  \n",
       "2     0     1     0     0     0  \n",
       "3     0     0     0     0     0  \n",
       "4     0     0     0     0     0  \n",
       "\n",
       "[5 rows x 378 columns]"
      ]
     },
     "execution_count": 3,
     "metadata": {},
     "output_type": "execute_result"
    }
   ],
   "source": [
    "train.head()"
   ]
  },
  {
   "cell_type": "code",
   "execution_count": 4,
   "id": "4e6103f6",
   "metadata": {
    "_kg_hide-output": true,
    "execution": {
     "iopub.execute_input": "2023-02-24T13:47:59.270460Z",
     "iopub.status.busy": "2023-02-24T13:47:59.270020Z",
     "iopub.status.idle": "2023-02-24T13:47:59.295051Z",
     "shell.execute_reply": "2023-02-24T13:47:59.294165Z"
    },
    "papermill": {
     "duration": 0.037754,
     "end_time": "2023-02-24T13:47:59.297604",
     "exception": false,
     "start_time": "2023-02-24T13:47:59.259850",
     "status": "completed"
    },
    "tags": []
   },
   "outputs": [],
   "source": [
    "train = train.drop('ID',axis =1)\n",
    "test = test.drop('ID',axis =1)"
   ]
  },
  {
   "cell_type": "code",
   "execution_count": 5,
   "id": "e681f05a",
   "metadata": {
    "execution": {
     "iopub.execute_input": "2023-02-24T13:47:59.318068Z",
     "iopub.status.busy": "2023-02-24T13:47:59.317264Z",
     "iopub.status.idle": "2023-02-24T13:47:59.341459Z",
     "shell.execute_reply": "2023-02-24T13:47:59.340201Z"
    },
    "papermill": {
     "duration": 0.03763,
     "end_time": "2023-02-24T13:47:59.344584",
     "exception": false,
     "start_time": "2023-02-24T13:47:59.306954",
     "status": "completed"
    },
    "tags": []
   },
   "outputs": [],
   "source": [
    "X = train.drop('y',axis=1).copy()\n",
    "y = train.y"
   ]
  },
  {
   "cell_type": "code",
   "execution_count": 6,
   "id": "ef5cf363",
   "metadata": {
    "execution": {
     "iopub.execute_input": "2023-02-24T13:47:59.364663Z",
     "iopub.status.busy": "2023-02-24T13:47:59.363830Z",
     "iopub.status.idle": "2023-02-24T13:47:59.386333Z",
     "shell.execute_reply": "2023-02-24T13:47:59.385191Z"
    },
    "papermill": {
     "duration": 0.035236,
     "end_time": "2023-02-24T13:47:59.388792",
     "exception": false,
     "start_time": "2023-02-24T13:47:59.353556",
     "status": "completed"
    },
    "tags": []
   },
   "outputs": [
    {
     "data": {
      "text/html": [
       "<div>\n",
       "<style scoped>\n",
       "    .dataframe tbody tr th:only-of-type {\n",
       "        vertical-align: middle;\n",
       "    }\n",
       "\n",
       "    .dataframe tbody tr th {\n",
       "        vertical-align: top;\n",
       "    }\n",
       "\n",
       "    .dataframe thead th {\n",
       "        text-align: right;\n",
       "    }\n",
       "</style>\n",
       "<table border=\"1\" class=\"dataframe\">\n",
       "  <thead>\n",
       "    <tr style=\"text-align: right;\">\n",
       "      <th></th>\n",
       "      <th>X0</th>\n",
       "      <th>X1</th>\n",
       "      <th>X2</th>\n",
       "      <th>X3</th>\n",
       "      <th>X4</th>\n",
       "      <th>X5</th>\n",
       "      <th>X6</th>\n",
       "      <th>X8</th>\n",
       "      <th>X10</th>\n",
       "      <th>X11</th>\n",
       "      <th>...</th>\n",
       "      <th>X375</th>\n",
       "      <th>X376</th>\n",
       "      <th>X377</th>\n",
       "      <th>X378</th>\n",
       "      <th>X379</th>\n",
       "      <th>X380</th>\n",
       "      <th>X382</th>\n",
       "      <th>X383</th>\n",
       "      <th>X384</th>\n",
       "      <th>X385</th>\n",
       "    </tr>\n",
       "  </thead>\n",
       "  <tbody>\n",
       "    <tr>\n",
       "      <th>0</th>\n",
       "      <td>k</td>\n",
       "      <td>v</td>\n",
       "      <td>at</td>\n",
       "      <td>a</td>\n",
       "      <td>d</td>\n",
       "      <td>u</td>\n",
       "      <td>j</td>\n",
       "      <td>o</td>\n",
       "      <td>0</td>\n",
       "      <td>0</td>\n",
       "      <td>...</td>\n",
       "      <td>0</td>\n",
       "      <td>0</td>\n",
       "      <td>1</td>\n",
       "      <td>0</td>\n",
       "      <td>0</td>\n",
       "      <td>0</td>\n",
       "      <td>0</td>\n",
       "      <td>0</td>\n",
       "      <td>0</td>\n",
       "      <td>0</td>\n",
       "    </tr>\n",
       "    <tr>\n",
       "      <th>1</th>\n",
       "      <td>k</td>\n",
       "      <td>t</td>\n",
       "      <td>av</td>\n",
       "      <td>e</td>\n",
       "      <td>d</td>\n",
       "      <td>y</td>\n",
       "      <td>l</td>\n",
       "      <td>o</td>\n",
       "      <td>0</td>\n",
       "      <td>0</td>\n",
       "      <td>...</td>\n",
       "      <td>1</td>\n",
       "      <td>0</td>\n",
       "      <td>0</td>\n",
       "      <td>0</td>\n",
       "      <td>0</td>\n",
       "      <td>0</td>\n",
       "      <td>0</td>\n",
       "      <td>0</td>\n",
       "      <td>0</td>\n",
       "      <td>0</td>\n",
       "    </tr>\n",
       "    <tr>\n",
       "      <th>2</th>\n",
       "      <td>az</td>\n",
       "      <td>w</td>\n",
       "      <td>n</td>\n",
       "      <td>c</td>\n",
       "      <td>d</td>\n",
       "      <td>x</td>\n",
       "      <td>j</td>\n",
       "      <td>x</td>\n",
       "      <td>0</td>\n",
       "      <td>0</td>\n",
       "      <td>...</td>\n",
       "      <td>0</td>\n",
       "      <td>0</td>\n",
       "      <td>0</td>\n",
       "      <td>0</td>\n",
       "      <td>0</td>\n",
       "      <td>0</td>\n",
       "      <td>1</td>\n",
       "      <td>0</td>\n",
       "      <td>0</td>\n",
       "      <td>0</td>\n",
       "    </tr>\n",
       "    <tr>\n",
       "      <th>3</th>\n",
       "      <td>az</td>\n",
       "      <td>t</td>\n",
       "      <td>n</td>\n",
       "      <td>f</td>\n",
       "      <td>d</td>\n",
       "      <td>x</td>\n",
       "      <td>l</td>\n",
       "      <td>e</td>\n",
       "      <td>0</td>\n",
       "      <td>0</td>\n",
       "      <td>...</td>\n",
       "      <td>0</td>\n",
       "      <td>0</td>\n",
       "      <td>0</td>\n",
       "      <td>0</td>\n",
       "      <td>0</td>\n",
       "      <td>0</td>\n",
       "      <td>0</td>\n",
       "      <td>0</td>\n",
       "      <td>0</td>\n",
       "      <td>0</td>\n",
       "    </tr>\n",
       "    <tr>\n",
       "      <th>4</th>\n",
       "      <td>az</td>\n",
       "      <td>v</td>\n",
       "      <td>n</td>\n",
       "      <td>f</td>\n",
       "      <td>d</td>\n",
       "      <td>h</td>\n",
       "      <td>d</td>\n",
       "      <td>n</td>\n",
       "      <td>0</td>\n",
       "      <td>0</td>\n",
       "      <td>...</td>\n",
       "      <td>0</td>\n",
       "      <td>0</td>\n",
       "      <td>0</td>\n",
       "      <td>0</td>\n",
       "      <td>0</td>\n",
       "      <td>0</td>\n",
       "      <td>0</td>\n",
       "      <td>0</td>\n",
       "      <td>0</td>\n",
       "      <td>0</td>\n",
       "    </tr>\n",
       "  </tbody>\n",
       "</table>\n",
       "<p>5 rows × 376 columns</p>\n",
       "</div>"
      ],
      "text/plain": [
       "   X0 X1  X2 X3 X4 X5 X6 X8  X10  X11  ...  X375  X376  X377  X378  X379  \\\n",
       "0   k  v  at  a  d  u  j  o    0    0  ...     0     0     1     0     0   \n",
       "1   k  t  av  e  d  y  l  o    0    0  ...     1     0     0     0     0   \n",
       "2  az  w   n  c  d  x  j  x    0    0  ...     0     0     0     0     0   \n",
       "3  az  t   n  f  d  x  l  e    0    0  ...     0     0     0     0     0   \n",
       "4  az  v   n  f  d  h  d  n    0    0  ...     0     0     0     0     0   \n",
       "\n",
       "   X380  X382  X383  X384  X385  \n",
       "0     0     0     0     0     0  \n",
       "1     0     0     0     0     0  \n",
       "2     0     1     0     0     0  \n",
       "3     0     0     0     0     0  \n",
       "4     0     0     0     0     0  \n",
       "\n",
       "[5 rows x 376 columns]"
      ]
     },
     "execution_count": 6,
     "metadata": {},
     "output_type": "execute_result"
    }
   ],
   "source": [
    "X.head()\n"
   ]
  },
  {
   "cell_type": "code",
   "execution_count": 7,
   "id": "3164c709",
   "metadata": {
    "execution": {
     "iopub.execute_input": "2023-02-24T13:47:59.409104Z",
     "iopub.status.busy": "2023-02-24T13:47:59.408708Z",
     "iopub.status.idle": "2023-02-24T13:47:59.415974Z",
     "shell.execute_reply": "2023-02-24T13:47:59.415206Z"
    },
    "papermill": {
     "duration": 0.020141,
     "end_time": "2023-02-24T13:47:59.417919",
     "exception": false,
     "start_time": "2023-02-24T13:47:59.397778",
     "status": "completed"
    },
    "tags": []
   },
   "outputs": [
    {
     "data": {
      "text/plain": [
       "0    130.81\n",
       "1     88.53\n",
       "2     76.26\n",
       "3     80.62\n",
       "4     78.02\n",
       "Name: y, dtype: float64"
      ]
     },
     "execution_count": 7,
     "metadata": {},
     "output_type": "execute_result"
    }
   ],
   "source": [
    "y.head()"
   ]
  },
  {
   "cell_type": "markdown",
   "id": "467f5038",
   "metadata": {
    "papermill": {
     "duration": 0.00884,
     "end_time": "2023-02-24T13:47:59.435962",
     "exception": false,
     "start_time": "2023-02-24T13:47:59.427122",
     "status": "completed"
    },
    "tags": []
   },
   "source": [
    "# Cheking for missing values"
   ]
  },
  {
   "cell_type": "code",
   "execution_count": 8,
   "id": "3781464a",
   "metadata": {
    "execution": {
     "iopub.execute_input": "2023-02-24T13:47:59.456504Z",
     "iopub.status.busy": "2023-02-24T13:47:59.456018Z",
     "iopub.status.idle": "2023-02-24T13:47:59.476414Z",
     "shell.execute_reply": "2023-02-24T13:47:59.474962Z"
    },
    "papermill": {
     "duration": 0.033514,
     "end_time": "2023-02-24T13:47:59.478714",
     "exception": false,
     "start_time": "2023-02-24T13:47:59.445200",
     "status": "completed"
    },
    "tags": []
   },
   "outputs": [
    {
     "name": "stdout",
     "output_type": "stream",
     "text": [
      "X_Miss []\n",
      "test_Miss []\n"
     ]
    }
   ],
   "source": [
    "X_Miss = []\n",
    "for i in X.isnull().sum().iteritems():\n",
    "    if (i[1] != 0) :\n",
    "        X_Miss.append(i[0])\n",
    "print('X_Miss', X_Miss)\n",
    "\n",
    "test_Miss = []\n",
    "for i in test.isnull().sum().iteritems():\n",
    "    if (i[1] !=0):\n",
    "        test_Miss.append(i[0])\n",
    "print('test_Miss', test_Miss)\n",
    "    "
   ]
  },
  {
   "cell_type": "code",
   "execution_count": 9,
   "id": "7a136921",
   "metadata": {
    "execution": {
     "iopub.execute_input": "2023-02-24T13:47:59.499058Z",
     "iopub.status.busy": "2023-02-24T13:47:59.498380Z",
     "iopub.status.idle": "2023-02-24T13:47:59.530036Z",
     "shell.execute_reply": "2023-02-24T13:47:59.528948Z"
    },
    "papermill": {
     "duration": 0.044927,
     "end_time": "2023-02-24T13:47:59.532734",
     "exception": false,
     "start_time": "2023-02-24T13:47:59.487807",
     "status": "completed"
    },
    "tags": []
   },
   "outputs": [
    {
     "data": {
      "text/html": [
       "<div>\n",
       "<style scoped>\n",
       "    .dataframe tbody tr th:only-of-type {\n",
       "        vertical-align: middle;\n",
       "    }\n",
       "\n",
       "    .dataframe tbody tr th {\n",
       "        vertical-align: top;\n",
       "    }\n",
       "\n",
       "    .dataframe thead th {\n",
       "        text-align: right;\n",
       "    }\n",
       "</style>\n",
       "<table border=\"1\" class=\"dataframe\">\n",
       "  <thead>\n",
       "    <tr style=\"text-align: right;\">\n",
       "      <th></th>\n",
       "      <th>X0</th>\n",
       "      <th>X1</th>\n",
       "      <th>X2</th>\n",
       "      <th>X3</th>\n",
       "      <th>X4</th>\n",
       "      <th>X5</th>\n",
       "      <th>X6</th>\n",
       "      <th>X8</th>\n",
       "    </tr>\n",
       "  </thead>\n",
       "  <tbody>\n",
       "    <tr>\n",
       "      <th>count</th>\n",
       "      <td>4209</td>\n",
       "      <td>4209</td>\n",
       "      <td>4209</td>\n",
       "      <td>4209</td>\n",
       "      <td>4209</td>\n",
       "      <td>4209</td>\n",
       "      <td>4209</td>\n",
       "      <td>4209</td>\n",
       "    </tr>\n",
       "    <tr>\n",
       "      <th>unique</th>\n",
       "      <td>47</td>\n",
       "      <td>27</td>\n",
       "      <td>44</td>\n",
       "      <td>7</td>\n",
       "      <td>4</td>\n",
       "      <td>29</td>\n",
       "      <td>12</td>\n",
       "      <td>25</td>\n",
       "    </tr>\n",
       "    <tr>\n",
       "      <th>top</th>\n",
       "      <td>z</td>\n",
       "      <td>aa</td>\n",
       "      <td>as</td>\n",
       "      <td>c</td>\n",
       "      <td>d</td>\n",
       "      <td>w</td>\n",
       "      <td>g</td>\n",
       "      <td>j</td>\n",
       "    </tr>\n",
       "    <tr>\n",
       "      <th>freq</th>\n",
       "      <td>360</td>\n",
       "      <td>833</td>\n",
       "      <td>1659</td>\n",
       "      <td>1942</td>\n",
       "      <td>4205</td>\n",
       "      <td>231</td>\n",
       "      <td>1042</td>\n",
       "      <td>277</td>\n",
       "    </tr>\n",
       "  </tbody>\n",
       "</table>\n",
       "</div>"
      ],
      "text/plain": [
       "          X0    X1    X2    X3    X4    X5    X6    X8\n",
       "count   4209  4209  4209  4209  4209  4209  4209  4209\n",
       "unique    47    27    44     7     4    29    12    25\n",
       "top        z    aa    as     c     d     w     g     j\n",
       "freq     360   833  1659  1942  4205   231  1042   277"
      ]
     },
     "execution_count": 9,
     "metadata": {},
     "output_type": "execute_result"
    }
   ],
   "source": [
    "X_desc = X.describe(include='O')\n",
    "X_desc"
   ]
  },
  {
   "cell_type": "code",
   "execution_count": 10,
   "id": "3839ecd3",
   "metadata": {
    "execution": {
     "iopub.execute_input": "2023-02-24T13:47:59.552978Z",
     "iopub.status.busy": "2023-02-24T13:47:59.552602Z",
     "iopub.status.idle": "2023-02-24T13:47:59.583215Z",
     "shell.execute_reply": "2023-02-24T13:47:59.582040Z"
    },
    "papermill": {
     "duration": 0.043378,
     "end_time": "2023-02-24T13:47:59.585600",
     "exception": false,
     "start_time": "2023-02-24T13:47:59.542222",
     "status": "completed"
    },
    "tags": []
   },
   "outputs": [
    {
     "data": {
      "text/html": [
       "<div>\n",
       "<style scoped>\n",
       "    .dataframe tbody tr th:only-of-type {\n",
       "        vertical-align: middle;\n",
       "    }\n",
       "\n",
       "    .dataframe tbody tr th {\n",
       "        vertical-align: top;\n",
       "    }\n",
       "\n",
       "    .dataframe thead th {\n",
       "        text-align: right;\n",
       "    }\n",
       "</style>\n",
       "<table border=\"1\" class=\"dataframe\">\n",
       "  <thead>\n",
       "    <tr style=\"text-align: right;\">\n",
       "      <th></th>\n",
       "      <th>X0</th>\n",
       "      <th>X1</th>\n",
       "      <th>X2</th>\n",
       "      <th>X3</th>\n",
       "      <th>X4</th>\n",
       "      <th>X5</th>\n",
       "      <th>X6</th>\n",
       "      <th>X8</th>\n",
       "    </tr>\n",
       "  </thead>\n",
       "  <tbody>\n",
       "    <tr>\n",
       "      <th>count</th>\n",
       "      <td>4209</td>\n",
       "      <td>4209</td>\n",
       "      <td>4209</td>\n",
       "      <td>4209</td>\n",
       "      <td>4209</td>\n",
       "      <td>4209</td>\n",
       "      <td>4209</td>\n",
       "      <td>4209</td>\n",
       "    </tr>\n",
       "    <tr>\n",
       "      <th>unique</th>\n",
       "      <td>49</td>\n",
       "      <td>27</td>\n",
       "      <td>45</td>\n",
       "      <td>7</td>\n",
       "      <td>4</td>\n",
       "      <td>32</td>\n",
       "      <td>12</td>\n",
       "      <td>25</td>\n",
       "    </tr>\n",
       "    <tr>\n",
       "      <th>top</th>\n",
       "      <td>ak</td>\n",
       "      <td>aa</td>\n",
       "      <td>as</td>\n",
       "      <td>c</td>\n",
       "      <td>d</td>\n",
       "      <td>v</td>\n",
       "      <td>g</td>\n",
       "      <td>e</td>\n",
       "    </tr>\n",
       "    <tr>\n",
       "      <th>freq</th>\n",
       "      <td>432</td>\n",
       "      <td>826</td>\n",
       "      <td>1658</td>\n",
       "      <td>1900</td>\n",
       "      <td>4203</td>\n",
       "      <td>246</td>\n",
       "      <td>1073</td>\n",
       "      <td>274</td>\n",
       "    </tr>\n",
       "  </tbody>\n",
       "</table>\n",
       "</div>"
      ],
      "text/plain": [
       "          X0    X1    X2    X3    X4    X5    X6    X8\n",
       "count   4209  4209  4209  4209  4209  4209  4209  4209\n",
       "unique    49    27    45     7     4    32    12    25\n",
       "top       ak    aa    as     c     d     v     g     e\n",
       "freq     432   826  1658  1900  4203   246  1073   274"
      ]
     },
     "execution_count": 10,
     "metadata": {},
     "output_type": "execute_result"
    }
   ],
   "source": [
    "test_desc = test.describe(include='O')\n",
    "test_desc"
   ]
  },
  {
   "cell_type": "code",
   "execution_count": 11,
   "id": "02a56160",
   "metadata": {
    "execution": {
     "iopub.execute_input": "2023-02-24T13:47:59.606792Z",
     "iopub.status.busy": "2023-02-24T13:47:59.606405Z",
     "iopub.status.idle": "2023-02-24T13:48:00.662131Z",
     "shell.execute_reply": "2023-02-24T13:48:00.661071Z"
    },
    "papermill": {
     "duration": 1.069689,
     "end_time": "2023-02-24T13:48:00.665055",
     "exception": false,
     "start_time": "2023-02-24T13:47:59.595366",
     "status": "completed"
    },
    "tags": []
   },
   "outputs": [],
   "source": [
    "from sklearn.model_selection import train_test_split\n",
    "X_train, X_valid, y_train, y_valid = train_test_split(X, y, train_size=0.8, test_size=0.2,\n",
    "                                                                random_state=0)"
   ]
  },
  {
   "cell_type": "code",
   "execution_count": 12,
   "id": "9ff08c3f",
   "metadata": {
    "execution": {
     "iopub.execute_input": "2023-02-24T13:48:00.686360Z",
     "iopub.status.busy": "2023-02-24T13:48:00.685956Z",
     "iopub.status.idle": "2023-02-24T13:48:00.910909Z",
     "shell.execute_reply": "2023-02-24T13:48:00.909532Z"
    },
    "papermill": {
     "duration": 0.238414,
     "end_time": "2023-02-24T13:48:00.913431",
     "exception": false,
     "start_time": "2023-02-24T13:48:00.675017",
     "status": "completed"
    },
    "tags": []
   },
   "outputs": [],
   "source": [
    "from sklearn.ensemble import RandomForestRegressor\n",
    "from sklearn.metrics import mean_absolute_error\n",
    "\n",
    "# Function for comparing different approaches\n",
    "def score_dataset(X_train, X_valid, y_train, y_valid):\n",
    "    model = RandomForestRegressor(n_estimators=100, random_state=0)\n",
    "    model.fit(X_train, y_train)\n",
    "    preds = model.predict(X_valid)\n",
    "    return mean_absolute_error(y_valid, preds)"
   ]
  },
  {
   "cell_type": "markdown",
   "id": "d80fa5af",
   "metadata": {
    "papermill": {
     "duration": 0.009478,
     "end_time": "2023-02-24T13:48:00.932679",
     "exception": false,
     "start_time": "2023-02-24T13:48:00.923201",
     "status": "completed"
    },
    "tags": []
   },
   "source": [
    "# Encoding training and validation data"
   ]
  },
  {
   "cell_type": "code",
   "execution_count": 13,
   "id": "8f5f9674",
   "metadata": {
    "execution": {
     "iopub.execute_input": "2023-02-24T13:48:00.954172Z",
     "iopub.status.busy": "2023-02-24T13:48:00.953319Z",
     "iopub.status.idle": "2023-02-24T13:48:09.336564Z",
     "shell.execute_reply": "2023-02-24T13:48:09.335326Z"
    },
    "papermill": {
     "duration": 8.396834,
     "end_time": "2023-02-24T13:48:09.339201",
     "exception": false,
     "start_time": "2023-02-24T13:48:00.942367",
     "status": "completed"
    },
    "tags": []
   },
   "outputs": [
    {
     "name": "stdout",
     "output_type": "stream",
     "text": [
      "MAE from Approach 1 (Lable Encoding):\n",
      "6.850257963457775\n"
     ]
    }
   ],
   "source": [
    "from sklearn.preprocessing import LabelEncoder\n",
    "\n",
    "# Make copy to avoid changing original data \n",
    "le_X_train = X_train.copy()\n",
    "le_X_valid = X_valid.copy()\n",
    "\n",
    "# Apply ordinal encoder to each column with categorical data\n",
    "le= LabelEncoder()\n",
    "#X_train[X_desc.columns] = le.fit_transform(X_train[X_desc.columns])\n",
    "#X_valid[X_desc.columns] = le.fit_transform(X_valid[X_desc.columns])\n",
    "\n",
    "for i in X_desc.columns:\n",
    "    le_X_train[i]=le.fit_transform(le_X_train[i])\n",
    "for i in X_desc.columns:\n",
    "    le_X_valid[i]=le.fit_transform(le_X_valid[i])\n",
    "\n",
    "print(\"MAE from Approach 1 (Lable Encoding):\") \n",
    "print(score_dataset(le_X_train, le_X_valid, y_train, y_valid))"
   ]
  },
  {
   "cell_type": "code",
   "execution_count": 14,
   "id": "55d461aa",
   "metadata": {
    "execution": {
     "iopub.execute_input": "2023-02-24T13:48:09.361551Z",
     "iopub.status.busy": "2023-02-24T13:48:09.360164Z",
     "iopub.status.idle": "2023-02-24T13:48:09.379535Z",
     "shell.execute_reply": "2023-02-24T13:48:09.378183Z"
    },
    "papermill": {
     "duration": 0.033493,
     "end_time": "2023-02-24T13:48:09.382598",
     "exception": false,
     "start_time": "2023-02-24T13:48:09.349105",
     "status": "completed"
    },
    "tags": []
   },
   "outputs": [
    {
     "data": {
      "text/html": [
       "<div>\n",
       "<style scoped>\n",
       "    .dataframe tbody tr th:only-of-type {\n",
       "        vertical-align: middle;\n",
       "    }\n",
       "\n",
       "    .dataframe tbody tr th {\n",
       "        vertical-align: top;\n",
       "    }\n",
       "\n",
       "    .dataframe thead th {\n",
       "        text-align: right;\n",
       "    }\n",
       "</style>\n",
       "<table border=\"1\" class=\"dataframe\">\n",
       "  <thead>\n",
       "    <tr style=\"text-align: right;\">\n",
       "      <th></th>\n",
       "      <th>X0</th>\n",
       "      <th>X1</th>\n",
       "      <th>X2</th>\n",
       "      <th>X3</th>\n",
       "      <th>X4</th>\n",
       "      <th>X5</th>\n",
       "      <th>X6</th>\n",
       "      <th>X8</th>\n",
       "      <th>X10</th>\n",
       "      <th>X11</th>\n",
       "      <th>...</th>\n",
       "      <th>X375</th>\n",
       "      <th>X376</th>\n",
       "      <th>X377</th>\n",
       "      <th>X378</th>\n",
       "      <th>X379</th>\n",
       "      <th>X380</th>\n",
       "      <th>X382</th>\n",
       "      <th>X383</th>\n",
       "      <th>X384</th>\n",
       "      <th>X385</th>\n",
       "    </tr>\n",
       "  </thead>\n",
       "  <tbody>\n",
       "    <tr>\n",
       "      <th>3540</th>\n",
       "      <td>6</td>\n",
       "      <td>13</td>\n",
       "      <td>15</td>\n",
       "      <td>5</td>\n",
       "      <td>3</td>\n",
       "      <td>22</td>\n",
       "      <td>8</td>\n",
       "      <td>0</td>\n",
       "      <td>0</td>\n",
       "      <td>0</td>\n",
       "      <td>...</td>\n",
       "      <td>0</td>\n",
       "      <td>0</td>\n",
       "      <td>0</td>\n",
       "      <td>0</td>\n",
       "      <td>0</td>\n",
       "      <td>0</td>\n",
       "      <td>0</td>\n",
       "      <td>0</td>\n",
       "      <td>0</td>\n",
       "      <td>0</td>\n",
       "    </tr>\n",
       "    <tr>\n",
       "      <th>3748</th>\n",
       "      <td>7</td>\n",
       "      <td>23</td>\n",
       "      <td>37</td>\n",
       "      <td>0</td>\n",
       "      <td>3</td>\n",
       "      <td>25</td>\n",
       "      <td>6</td>\n",
       "      <td>4</td>\n",
       "      <td>0</td>\n",
       "      <td>0</td>\n",
       "      <td>...</td>\n",
       "      <td>0</td>\n",
       "      <td>0</td>\n",
       "      <td>1</td>\n",
       "      <td>0</td>\n",
       "      <td>0</td>\n",
       "      <td>0</td>\n",
       "      <td>0</td>\n",
       "      <td>0</td>\n",
       "      <td>0</td>\n",
       "      <td>0</td>\n",
       "    </tr>\n",
       "    <tr>\n",
       "      <th>1287</th>\n",
       "      <td>28</td>\n",
       "      <td>0</td>\n",
       "      <td>8</td>\n",
       "      <td>5</td>\n",
       "      <td>3</td>\n",
       "      <td>2</td>\n",
       "      <td>9</td>\n",
       "      <td>20</td>\n",
       "      <td>0</td>\n",
       "      <td>0</td>\n",
       "      <td>...</td>\n",
       "      <td>0</td>\n",
       "      <td>0</td>\n",
       "      <td>0</td>\n",
       "      <td>0</td>\n",
       "      <td>0</td>\n",
       "      <td>0</td>\n",
       "      <td>0</td>\n",
       "      <td>0</td>\n",
       "      <td>0</td>\n",
       "      <td>0</td>\n",
       "    </tr>\n",
       "    <tr>\n",
       "      <th>2856</th>\n",
       "      <td>18</td>\n",
       "      <td>19</td>\n",
       "      <td>37</td>\n",
       "      <td>5</td>\n",
       "      <td>3</td>\n",
       "      <td>20</td>\n",
       "      <td>6</td>\n",
       "      <td>6</td>\n",
       "      <td>0</td>\n",
       "      <td>0</td>\n",
       "      <td>...</td>\n",
       "      <td>0</td>\n",
       "      <td>0</td>\n",
       "      <td>0</td>\n",
       "      <td>0</td>\n",
       "      <td>0</td>\n",
       "      <td>0</td>\n",
       "      <td>0</td>\n",
       "      <td>0</td>\n",
       "      <td>0</td>\n",
       "      <td>0</td>\n",
       "    </tr>\n",
       "    <tr>\n",
       "      <th>1380</th>\n",
       "      <td>11</td>\n",
       "      <td>13</td>\n",
       "      <td>38</td>\n",
       "      <td>2</td>\n",
       "      <td>3</td>\n",
       "      <td>2</td>\n",
       "      <td>3</td>\n",
       "      <td>13</td>\n",
       "      <td>0</td>\n",
       "      <td>0</td>\n",
       "      <td>...</td>\n",
       "      <td>0</td>\n",
       "      <td>0</td>\n",
       "      <td>0</td>\n",
       "      <td>0</td>\n",
       "      <td>0</td>\n",
       "      <td>0</td>\n",
       "      <td>0</td>\n",
       "      <td>0</td>\n",
       "      <td>0</td>\n",
       "      <td>0</td>\n",
       "    </tr>\n",
       "  </tbody>\n",
       "</table>\n",
       "<p>5 rows × 376 columns</p>\n",
       "</div>"
      ],
      "text/plain": [
       "      X0  X1  X2  X3  X4  X5  X6  X8  X10  X11  ...  X375  X376  X377  X378  \\\n",
       "3540   6  13  15   5   3  22   8   0    0    0  ...     0     0     0     0   \n",
       "3748   7  23  37   0   3  25   6   4    0    0  ...     0     0     1     0   \n",
       "1287  28   0   8   5   3   2   9  20    0    0  ...     0     0     0     0   \n",
       "2856  18  19  37   5   3  20   6   6    0    0  ...     0     0     0     0   \n",
       "1380  11  13  38   2   3   2   3  13    0    0  ...     0     0     0     0   \n",
       "\n",
       "      X379  X380  X382  X383  X384  X385  \n",
       "3540     0     0     0     0     0     0  \n",
       "3748     0     0     0     0     0     0  \n",
       "1287     0     0     0     0     0     0  \n",
       "2856     0     0     0     0     0     0  \n",
       "1380     0     0     0     0     0     0  \n",
       "\n",
       "[5 rows x 376 columns]"
      ]
     },
     "execution_count": 14,
     "metadata": {},
     "output_type": "execute_result"
    }
   ],
   "source": [
    "le_X_train.head()"
   ]
  },
  {
   "cell_type": "code",
   "execution_count": 15,
   "id": "9bf4c19f",
   "metadata": {
    "execution": {
     "iopub.execute_input": "2023-02-24T13:48:09.405299Z",
     "iopub.status.busy": "2023-02-24T13:48:09.404631Z",
     "iopub.status.idle": "2023-02-24T13:48:17.763444Z",
     "shell.execute_reply": "2023-02-24T13:48:17.762181Z"
    },
    "papermill": {
     "duration": 8.37341,
     "end_time": "2023-02-24T13:48:17.766163",
     "exception": false,
     "start_time": "2023-02-24T13:48:09.392753",
     "status": "completed"
    },
    "tags": []
   },
   "outputs": [
    {
     "name": "stdout",
     "output_type": "stream",
     "text": [
      "MAE from Approach 2 (Ordinal Encoding):\n",
      "6.850257963457775\n"
     ]
    }
   ],
   "source": [
    "from sklearn.preprocessing import OrdinalEncoder\n",
    "\n",
    "# Make copy to avoid changing original data \n",
    "label_X_train = X_train.copy()\n",
    "label_X_valid = X_valid.copy()\n",
    "\n",
    "# Apply ordinal encoder to each column with categorical data\n",
    "ordinal_encoder = OrdinalEncoder()\n",
    "label_X_train[X_desc.columns] = ordinal_encoder.fit_transform(label_X_train[X_desc.columns])\n",
    "label_X_valid[X_desc.columns] = ordinal_encoder.fit_transform(label_X_valid[X_desc.columns])\n",
    "\n",
    "print(\"MAE from Approach 2 (Ordinal Encoding):\") \n",
    "print(score_dataset(label_X_train, label_X_valid, y_train, y_valid))"
   ]
  },
  {
   "cell_type": "markdown",
   "id": "f802ee26",
   "metadata": {
    "papermill": {
     "duration": 0.009725,
     "end_time": "2023-02-24T13:48:17.786206",
     "exception": false,
     "start_time": "2023-02-24T13:48:17.776481",
     "status": "completed"
    },
    "tags": []
   },
   "source": [
    "# Encoding test data"
   ]
  },
  {
   "cell_type": "code",
   "execution_count": 16,
   "id": "d5bb92af",
   "metadata": {
    "execution": {
     "iopub.execute_input": "2023-02-24T13:48:17.808589Z",
     "iopub.status.busy": "2023-02-24T13:48:17.807908Z",
     "iopub.status.idle": "2023-02-24T13:48:17.830197Z",
     "shell.execute_reply": "2023-02-24T13:48:17.829142Z"
    },
    "papermill": {
     "duration": 0.036527,
     "end_time": "2023-02-24T13:48:17.832875",
     "exception": false,
     "start_time": "2023-02-24T13:48:17.796348",
     "status": "completed"
    },
    "tags": []
   },
   "outputs": [],
   "source": [
    "lable_test = test.copy()\n",
    "\n",
    "for i in X_desc.columns:\n",
    "    lable_test[i]=le.fit_transform(lable_test[i])"
   ]
  },
  {
   "cell_type": "code",
   "execution_count": 17,
   "id": "b3ae8dfe",
   "metadata": {
    "execution": {
     "iopub.execute_input": "2023-02-24T13:48:17.855284Z",
     "iopub.status.busy": "2023-02-24T13:48:17.854856Z",
     "iopub.status.idle": "2023-02-24T13:48:17.880472Z",
     "shell.execute_reply": "2023-02-24T13:48:17.879331Z"
    },
    "papermill": {
     "duration": 0.039216,
     "end_time": "2023-02-24T13:48:17.882657",
     "exception": false,
     "start_time": "2023-02-24T13:48:17.843441",
     "status": "completed"
    },
    "tags": []
   },
   "outputs": [
    {
     "data": {
      "text/html": [
       "<div>\n",
       "<style scoped>\n",
       "    .dataframe tbody tr th:only-of-type {\n",
       "        vertical-align: middle;\n",
       "    }\n",
       "\n",
       "    .dataframe tbody tr th {\n",
       "        vertical-align: top;\n",
       "    }\n",
       "\n",
       "    .dataframe thead th {\n",
       "        text-align: right;\n",
       "    }\n",
       "</style>\n",
       "<table border=\"1\" class=\"dataframe\">\n",
       "  <thead>\n",
       "    <tr style=\"text-align: right;\">\n",
       "      <th></th>\n",
       "      <th>X0</th>\n",
       "      <th>X1</th>\n",
       "      <th>X2</th>\n",
       "      <th>X3</th>\n",
       "      <th>X4</th>\n",
       "      <th>X5</th>\n",
       "      <th>X6</th>\n",
       "      <th>X8</th>\n",
       "      <th>X10</th>\n",
       "      <th>X11</th>\n",
       "      <th>...</th>\n",
       "      <th>X375</th>\n",
       "      <th>X376</th>\n",
       "      <th>X377</th>\n",
       "      <th>X378</th>\n",
       "      <th>X379</th>\n",
       "      <th>X380</th>\n",
       "      <th>X382</th>\n",
       "      <th>X383</th>\n",
       "      <th>X384</th>\n",
       "      <th>X385</th>\n",
       "    </tr>\n",
       "  </thead>\n",
       "  <tbody>\n",
       "    <tr>\n",
       "      <th>3540</th>\n",
       "      <td>6.0</td>\n",
       "      <td>13.0</td>\n",
       "      <td>15.0</td>\n",
       "      <td>5.0</td>\n",
       "      <td>3.0</td>\n",
       "      <td>22.0</td>\n",
       "      <td>8.0</td>\n",
       "      <td>0.0</td>\n",
       "      <td>0</td>\n",
       "      <td>0</td>\n",
       "      <td>...</td>\n",
       "      <td>0</td>\n",
       "      <td>0</td>\n",
       "      <td>0</td>\n",
       "      <td>0</td>\n",
       "      <td>0</td>\n",
       "      <td>0</td>\n",
       "      <td>0</td>\n",
       "      <td>0</td>\n",
       "      <td>0</td>\n",
       "      <td>0</td>\n",
       "    </tr>\n",
       "    <tr>\n",
       "      <th>3748</th>\n",
       "      <td>7.0</td>\n",
       "      <td>23.0</td>\n",
       "      <td>37.0</td>\n",
       "      <td>0.0</td>\n",
       "      <td>3.0</td>\n",
       "      <td>25.0</td>\n",
       "      <td>6.0</td>\n",
       "      <td>4.0</td>\n",
       "      <td>0</td>\n",
       "      <td>0</td>\n",
       "      <td>...</td>\n",
       "      <td>0</td>\n",
       "      <td>0</td>\n",
       "      <td>1</td>\n",
       "      <td>0</td>\n",
       "      <td>0</td>\n",
       "      <td>0</td>\n",
       "      <td>0</td>\n",
       "      <td>0</td>\n",
       "      <td>0</td>\n",
       "      <td>0</td>\n",
       "    </tr>\n",
       "    <tr>\n",
       "      <th>1287</th>\n",
       "      <td>28.0</td>\n",
       "      <td>0.0</td>\n",
       "      <td>8.0</td>\n",
       "      <td>5.0</td>\n",
       "      <td>3.0</td>\n",
       "      <td>2.0</td>\n",
       "      <td>9.0</td>\n",
       "      <td>20.0</td>\n",
       "      <td>0</td>\n",
       "      <td>0</td>\n",
       "      <td>...</td>\n",
       "      <td>0</td>\n",
       "      <td>0</td>\n",
       "      <td>0</td>\n",
       "      <td>0</td>\n",
       "      <td>0</td>\n",
       "      <td>0</td>\n",
       "      <td>0</td>\n",
       "      <td>0</td>\n",
       "      <td>0</td>\n",
       "      <td>0</td>\n",
       "    </tr>\n",
       "    <tr>\n",
       "      <th>2856</th>\n",
       "      <td>18.0</td>\n",
       "      <td>19.0</td>\n",
       "      <td>37.0</td>\n",
       "      <td>5.0</td>\n",
       "      <td>3.0</td>\n",
       "      <td>20.0</td>\n",
       "      <td>6.0</td>\n",
       "      <td>6.0</td>\n",
       "      <td>0</td>\n",
       "      <td>0</td>\n",
       "      <td>...</td>\n",
       "      <td>0</td>\n",
       "      <td>0</td>\n",
       "      <td>0</td>\n",
       "      <td>0</td>\n",
       "      <td>0</td>\n",
       "      <td>0</td>\n",
       "      <td>0</td>\n",
       "      <td>0</td>\n",
       "      <td>0</td>\n",
       "      <td>0</td>\n",
       "    </tr>\n",
       "    <tr>\n",
       "      <th>1380</th>\n",
       "      <td>11.0</td>\n",
       "      <td>13.0</td>\n",
       "      <td>38.0</td>\n",
       "      <td>2.0</td>\n",
       "      <td>3.0</td>\n",
       "      <td>2.0</td>\n",
       "      <td>3.0</td>\n",
       "      <td>13.0</td>\n",
       "      <td>0</td>\n",
       "      <td>0</td>\n",
       "      <td>...</td>\n",
       "      <td>0</td>\n",
       "      <td>0</td>\n",
       "      <td>0</td>\n",
       "      <td>0</td>\n",
       "      <td>0</td>\n",
       "      <td>0</td>\n",
       "      <td>0</td>\n",
       "      <td>0</td>\n",
       "      <td>0</td>\n",
       "      <td>0</td>\n",
       "    </tr>\n",
       "  </tbody>\n",
       "</table>\n",
       "<p>5 rows × 376 columns</p>\n",
       "</div>"
      ],
      "text/plain": [
       "        X0    X1    X2   X3   X4    X5   X6    X8  X10  X11  ...  X375  X376  \\\n",
       "3540   6.0  13.0  15.0  5.0  3.0  22.0  8.0   0.0    0    0  ...     0     0   \n",
       "3748   7.0  23.0  37.0  0.0  3.0  25.0  6.0   4.0    0    0  ...     0     0   \n",
       "1287  28.0   0.0   8.0  5.0  3.0   2.0  9.0  20.0    0    0  ...     0     0   \n",
       "2856  18.0  19.0  37.0  5.0  3.0  20.0  6.0   6.0    0    0  ...     0     0   \n",
       "1380  11.0  13.0  38.0  2.0  3.0   2.0  3.0  13.0    0    0  ...     0     0   \n",
       "\n",
       "      X377  X378  X379  X380  X382  X383  X384  X385  \n",
       "3540     0     0     0     0     0     0     0     0  \n",
       "3748     1     0     0     0     0     0     0     0  \n",
       "1287     0     0     0     0     0     0     0     0  \n",
       "2856     0     0     0     0     0     0     0     0  \n",
       "1380     0     0     0     0     0     0     0     0  \n",
       "\n",
       "[5 rows x 376 columns]"
      ]
     },
     "execution_count": 17,
     "metadata": {},
     "output_type": "execute_result"
    }
   ],
   "source": [
    "label_X_train.head()"
   ]
  },
  {
   "cell_type": "markdown",
   "id": "a3c0caad",
   "metadata": {
    "papermill": {
     "duration": 0.010798,
     "end_time": "2023-02-24T13:48:17.904566",
     "exception": false,
     "start_time": "2023-02-24T13:48:17.893768",
     "status": "completed"
    },
    "tags": []
   },
   "source": [
    "# Scaling the Data\n"
   ]
  },
  {
   "cell_type": "code",
   "execution_count": 18,
   "id": "6ee28ec7",
   "metadata": {
    "execution": {
     "iopub.execute_input": "2023-02-24T13:48:17.927383Z",
     "iopub.status.busy": "2023-02-24T13:48:17.926945Z",
     "iopub.status.idle": "2023-02-24T13:48:18.005493Z",
     "shell.execute_reply": "2023-02-24T13:48:18.004512Z"
    },
    "papermill": {
     "duration": 0.092946,
     "end_time": "2023-02-24T13:48:18.008181",
     "exception": false,
     "start_time": "2023-02-24T13:48:17.915235",
     "status": "completed"
    },
    "tags": []
   },
   "outputs": [],
   "source": [
    "from sklearn.preprocessing import MinMaxScaler\n",
    "\n",
    "scaler = MinMaxScaler()\n",
    "X_train_scaled = scaler.fit_transform(le_X_train)\n",
    "X_valid_scaled = scaler.fit_transform(le_X_valid)\n",
    "test_scaled = scaler.fit_transform(lable_test)"
   ]
  },
  {
   "cell_type": "code",
   "execution_count": 19,
   "id": "e78cca63",
   "metadata": {
    "_kg_hide-output": true,
    "execution": {
     "iopub.execute_input": "2023-02-24T13:48:18.032057Z",
     "iopub.status.busy": "2023-02-24T13:48:18.031100Z",
     "iopub.status.idle": "2023-02-24T13:48:18.047294Z",
     "shell.execute_reply": "2023-02-24T13:48:18.046156Z"
    },
    "papermill": {
     "duration": 0.030939,
     "end_time": "2023-02-24T13:48:18.049621",
     "exception": false,
     "start_time": "2023-02-24T13:48:18.018682",
     "status": "completed"
    },
    "tags": []
   },
   "outputs": [
    {
     "data": {
      "text/plain": [
       "['X0',\n",
       " 'X1',\n",
       " 'X2',\n",
       " 'X3',\n",
       " 'X4',\n",
       " 'X5',\n",
       " 'X6',\n",
       " 'X8',\n",
       " 'X10',\n",
       " 'X11',\n",
       " 'X12',\n",
       " 'X13',\n",
       " 'X14',\n",
       " 'X15',\n",
       " 'X16',\n",
       " 'X17',\n",
       " 'X18',\n",
       " 'X19',\n",
       " 'X20',\n",
       " 'X21',\n",
       " 'X22',\n",
       " 'X23',\n",
       " 'X24',\n",
       " 'X26',\n",
       " 'X27',\n",
       " 'X28',\n",
       " 'X29',\n",
       " 'X30',\n",
       " 'X31',\n",
       " 'X32',\n",
       " 'X33',\n",
       " 'X34',\n",
       " 'X35',\n",
       " 'X36',\n",
       " 'X37',\n",
       " 'X38',\n",
       " 'X39',\n",
       " 'X40',\n",
       " 'X41',\n",
       " 'X42',\n",
       " 'X43',\n",
       " 'X44',\n",
       " 'X45',\n",
       " 'X46',\n",
       " 'X47',\n",
       " 'X48',\n",
       " 'X49',\n",
       " 'X50',\n",
       " 'X51',\n",
       " 'X52',\n",
       " 'X53',\n",
       " 'X54',\n",
       " 'X55',\n",
       " 'X56',\n",
       " 'X57',\n",
       " 'X58',\n",
       " 'X59',\n",
       " 'X60',\n",
       " 'X61',\n",
       " 'X62',\n",
       " 'X63',\n",
       " 'X64',\n",
       " 'X65',\n",
       " 'X66',\n",
       " 'X67',\n",
       " 'X68',\n",
       " 'X69',\n",
       " 'X70',\n",
       " 'X71',\n",
       " 'X73',\n",
       " 'X74',\n",
       " 'X75',\n",
       " 'X76',\n",
       " 'X77',\n",
       " 'X78',\n",
       " 'X79',\n",
       " 'X80',\n",
       " 'X81',\n",
       " 'X82',\n",
       " 'X83',\n",
       " 'X84',\n",
       " 'X85',\n",
       " 'X86',\n",
       " 'X87',\n",
       " 'X88',\n",
       " 'X89',\n",
       " 'X90',\n",
       " 'X91',\n",
       " 'X92',\n",
       " 'X93',\n",
       " 'X94',\n",
       " 'X95',\n",
       " 'X96',\n",
       " 'X97',\n",
       " 'X98',\n",
       " 'X99',\n",
       " 'X100',\n",
       " 'X101',\n",
       " 'X102',\n",
       " 'X103',\n",
       " 'X104',\n",
       " 'X105',\n",
       " 'X106',\n",
       " 'X107',\n",
       " 'X108',\n",
       " 'X109',\n",
       " 'X110',\n",
       " 'X111',\n",
       " 'X112',\n",
       " 'X113',\n",
       " 'X114',\n",
       " 'X115',\n",
       " 'X116',\n",
       " 'X117',\n",
       " 'X118',\n",
       " 'X119',\n",
       " 'X120',\n",
       " 'X122',\n",
       " 'X123',\n",
       " 'X124',\n",
       " 'X125',\n",
       " 'X126',\n",
       " 'X127',\n",
       " 'X128',\n",
       " 'X129',\n",
       " 'X130',\n",
       " 'X131',\n",
       " 'X132',\n",
       " 'X133',\n",
       " 'X134',\n",
       " 'X135',\n",
       " 'X136',\n",
       " 'X137',\n",
       " 'X138',\n",
       " 'X139',\n",
       " 'X140',\n",
       " 'X141',\n",
       " 'X142',\n",
       " 'X143',\n",
       " 'X144',\n",
       " 'X145',\n",
       " 'X146',\n",
       " 'X147',\n",
       " 'X148',\n",
       " 'X150',\n",
       " 'X151',\n",
       " 'X152',\n",
       " 'X153',\n",
       " 'X154',\n",
       " 'X155',\n",
       " 'X156',\n",
       " 'X157',\n",
       " 'X158',\n",
       " 'X159',\n",
       " 'X160',\n",
       " 'X161',\n",
       " 'X162',\n",
       " 'X163',\n",
       " 'X164',\n",
       " 'X165',\n",
       " 'X166',\n",
       " 'X167',\n",
       " 'X168',\n",
       " 'X169',\n",
       " 'X170',\n",
       " 'X171',\n",
       " 'X172',\n",
       " 'X173',\n",
       " 'X174',\n",
       " 'X175',\n",
       " 'X176',\n",
       " 'X177',\n",
       " 'X178',\n",
       " 'X179',\n",
       " 'X180',\n",
       " 'X181',\n",
       " 'X182',\n",
       " 'X183',\n",
       " 'X184',\n",
       " 'X185',\n",
       " 'X186',\n",
       " 'X187',\n",
       " 'X189',\n",
       " 'X190',\n",
       " 'X191',\n",
       " 'X192',\n",
       " 'X194',\n",
       " 'X195',\n",
       " 'X196',\n",
       " 'X197',\n",
       " 'X198',\n",
       " 'X199',\n",
       " 'X200',\n",
       " 'X201',\n",
       " 'X202',\n",
       " 'X203',\n",
       " 'X204',\n",
       " 'X205',\n",
       " 'X206',\n",
       " 'X207',\n",
       " 'X208',\n",
       " 'X209',\n",
       " 'X210',\n",
       " 'X211',\n",
       " 'X212',\n",
       " 'X213',\n",
       " 'X214',\n",
       " 'X215',\n",
       " 'X216',\n",
       " 'X217',\n",
       " 'X218',\n",
       " 'X219',\n",
       " 'X220',\n",
       " 'X221',\n",
       " 'X222',\n",
       " 'X223',\n",
       " 'X224',\n",
       " 'X225',\n",
       " 'X226',\n",
       " 'X227',\n",
       " 'X228',\n",
       " 'X229',\n",
       " 'X230',\n",
       " 'X231',\n",
       " 'X232',\n",
       " 'X233',\n",
       " 'X234',\n",
       " 'X235',\n",
       " 'X236',\n",
       " 'X237',\n",
       " 'X238',\n",
       " 'X239',\n",
       " 'X240',\n",
       " 'X241',\n",
       " 'X242',\n",
       " 'X243',\n",
       " 'X244',\n",
       " 'X245',\n",
       " 'X246',\n",
       " 'X247',\n",
       " 'X248',\n",
       " 'X249',\n",
       " 'X250',\n",
       " 'X251',\n",
       " 'X252',\n",
       " 'X253',\n",
       " 'X254',\n",
       " 'X255',\n",
       " 'X256',\n",
       " 'X257',\n",
       " 'X258',\n",
       " 'X259',\n",
       " 'X260',\n",
       " 'X261',\n",
       " 'X262',\n",
       " 'X263',\n",
       " 'X264',\n",
       " 'X265',\n",
       " 'X266',\n",
       " 'X267',\n",
       " 'X268',\n",
       " 'X269',\n",
       " 'X270',\n",
       " 'X271',\n",
       " 'X272',\n",
       " 'X273',\n",
       " 'X274',\n",
       " 'X275',\n",
       " 'X276',\n",
       " 'X277',\n",
       " 'X278',\n",
       " 'X279',\n",
       " 'X280',\n",
       " 'X281',\n",
       " 'X282',\n",
       " 'X283',\n",
       " 'X284',\n",
       " 'X285',\n",
       " 'X286',\n",
       " 'X287',\n",
       " 'X288',\n",
       " 'X289',\n",
       " 'X290',\n",
       " 'X291',\n",
       " 'X292',\n",
       " 'X293',\n",
       " 'X294',\n",
       " 'X295',\n",
       " 'X296',\n",
       " 'X297',\n",
       " 'X298',\n",
       " 'X299',\n",
       " 'X300',\n",
       " 'X301',\n",
       " 'X302',\n",
       " 'X304',\n",
       " 'X305',\n",
       " 'X306',\n",
       " 'X307',\n",
       " 'X308',\n",
       " 'X309',\n",
       " 'X310',\n",
       " 'X311',\n",
       " 'X312',\n",
       " 'X313',\n",
       " 'X314',\n",
       " 'X315',\n",
       " 'X316',\n",
       " 'X317',\n",
       " 'X318',\n",
       " 'X319',\n",
       " 'X320',\n",
       " 'X321',\n",
       " 'X322',\n",
       " 'X323',\n",
       " 'X324',\n",
       " 'X325',\n",
       " 'X326',\n",
       " 'X327',\n",
       " 'X328',\n",
       " 'X329',\n",
       " 'X330',\n",
       " 'X331',\n",
       " 'X332',\n",
       " 'X333',\n",
       " 'X334',\n",
       " 'X335',\n",
       " 'X336',\n",
       " 'X337',\n",
       " 'X338',\n",
       " 'X339',\n",
       " 'X340',\n",
       " 'X341',\n",
       " 'X342',\n",
       " 'X343',\n",
       " 'X344',\n",
       " 'X345',\n",
       " 'X346',\n",
       " 'X347',\n",
       " 'X348',\n",
       " 'X349',\n",
       " 'X350',\n",
       " 'X351',\n",
       " 'X352',\n",
       " 'X353',\n",
       " 'X354',\n",
       " 'X355',\n",
       " 'X356',\n",
       " 'X357',\n",
       " 'X358',\n",
       " 'X359',\n",
       " 'X360',\n",
       " 'X361',\n",
       " 'X362',\n",
       " 'X363',\n",
       " 'X364',\n",
       " 'X365',\n",
       " 'X366',\n",
       " 'X367',\n",
       " 'X368',\n",
       " 'X369',\n",
       " 'X370',\n",
       " 'X371',\n",
       " 'X372',\n",
       " 'X373',\n",
       " 'X374',\n",
       " 'X375',\n",
       " 'X376',\n",
       " 'X377',\n",
       " 'X378',\n",
       " 'X379',\n",
       " 'X380',\n",
       " 'X382',\n",
       " 'X383',\n",
       " 'X384',\n",
       " 'X385']"
      ]
     },
     "execution_count": 19,
     "metadata": {},
     "output_type": "execute_result"
    }
   ],
   "source": [
    "columns = []\n",
    "for col in le_X_train.columns:\n",
    "    columns.append(col)\n",
    "columns"
   ]
  },
  {
   "cell_type": "code",
   "execution_count": 20,
   "id": "a60be50f",
   "metadata": {
    "execution": {
     "iopub.execute_input": "2023-02-24T13:48:18.073292Z",
     "iopub.status.busy": "2023-02-24T13:48:18.072845Z",
     "iopub.status.idle": "2023-02-24T13:48:18.080214Z",
     "shell.execute_reply": "2023-02-24T13:48:18.078927Z"
    },
    "papermill": {
     "duration": 0.021739,
     "end_time": "2023-02-24T13:48:18.082481",
     "exception": false,
     "start_time": "2023-02-24T13:48:18.060742",
     "status": "completed"
    },
    "tags": []
   },
   "outputs": [],
   "source": [
    "\n",
    "X_train_scaled = pd.DataFrame(X_train_scaled, columns = columns)\n",
    "X_valid_scaled = pd.DataFrame(X_valid_scaled, columns = columns)\n",
    "test_scaled = pd.DataFrame(test_scaled, columns = columns)\n"
   ]
  },
  {
   "cell_type": "markdown",
   "id": "f0207014",
   "metadata": {
    "papermill": {
     "duration": 0.010886,
     "end_time": "2023-02-24T13:48:18.105426",
     "exception": false,
     "start_time": "2023-02-24T13:48:18.094540",
     "status": "completed"
    },
    "tags": []
   },
   "source": [
    "# Model Selection\n"
   ]
  },
  {
   "cell_type": "code",
   "execution_count": 21,
   "id": "46f34e5e",
   "metadata": {
    "execution": {
     "iopub.execute_input": "2023-02-24T13:48:18.132068Z",
     "iopub.status.busy": "2023-02-24T13:48:18.131622Z",
     "iopub.status.idle": "2023-02-24T13:48:18.238805Z",
     "shell.execute_reply": "2023-02-24T13:48:18.237621Z"
    },
    "papermill": {
     "duration": 0.125185,
     "end_time": "2023-02-24T13:48:18.241883",
     "exception": false,
     "start_time": "2023-02-24T13:48:18.116698",
     "status": "completed"
    },
    "tags": []
   },
   "outputs": [],
   "source": [
    "from sklearn.decomposition import PCA\n",
    "from xgboost import XGBRegressor\n",
    "from sklearn.metrics import accuracy_score"
   ]
  },
  {
   "cell_type": "code",
   "execution_count": 22,
   "id": "5522ea8a",
   "metadata": {
    "execution": {
     "iopub.execute_input": "2023-02-24T13:48:18.265860Z",
     "iopub.status.busy": "2023-02-24T13:48:18.265460Z",
     "iopub.status.idle": "2023-02-24T13:48:18.546546Z",
     "shell.execute_reply": "2023-02-24T13:48:18.543375Z"
    },
    "papermill": {
     "duration": 0.299034,
     "end_time": "2023-02-24T13:48:18.552019",
     "exception": false,
     "start_time": "2023-02-24T13:48:18.252985",
     "status": "completed"
    },
    "tags": []
   },
   "outputs": [
    {
     "name": "stdout",
     "output_type": "stream",
     "text": [
      "(3367, 376)\n",
      "(3367, 94)\n",
      "(842, 376)\n",
      "(842, 94)\n",
      "(4209, 376)\n",
      "(4209, 94)\n"
     ]
    }
   ],
   "source": [
    "pca =PCA(n_components=0.97, random_state=102)\n",
    "Xtrain_trans=pca.fit_transform(X_train_scaled)\n",
    "XValid_trans=pca.transform(X_valid_scaled)\n",
    "test_trans=pca.transform(test_scaled)\n",
    "print(X_train_scaled.shape)\n",
    "print(Xtrain_trans.shape)\n",
    "print(X_valid_scaled.shape)\n",
    "print(XValid_trans.shape)\n",
    "print(test_scaled.shape)\n",
    "print(test_trans.shape)"
   ]
  },
  {
   "cell_type": "code",
   "execution_count": 23,
   "id": "48e88a25",
   "metadata": {
    "execution": {
     "iopub.execute_input": "2023-02-24T13:48:18.613409Z",
     "iopub.status.busy": "2023-02-24T13:48:18.612555Z",
     "iopub.status.idle": "2023-02-24T13:48:18.620738Z",
     "shell.execute_reply": "2023-02-24T13:48:18.619189Z"
    },
    "papermill": {
     "duration": 0.045767,
     "end_time": "2023-02-24T13:48:18.627947",
     "exception": false,
     "start_time": "2023-02-24T13:48:18.582180",
     "status": "completed"
    },
    "tags": []
   },
   "outputs": [],
   "source": [
    "xgb=XGBRegressor(n_estimators=1000, learning_rate=0.05, n_jobs=4)"
   ]
  },
  {
   "cell_type": "code",
   "execution_count": 24,
   "id": "5bc6d8b5",
   "metadata": {
    "execution": {
     "iopub.execute_input": "2023-02-24T13:48:18.670271Z",
     "iopub.status.busy": "2023-02-24T13:48:18.669817Z",
     "iopub.status.idle": "2023-02-24T13:48:18.675152Z",
     "shell.execute_reply": "2023-02-24T13:48:18.673981Z"
    },
    "papermill": {
     "duration": 0.021356,
     "end_time": "2023-02-24T13:48:18.677545",
     "exception": false,
     "start_time": "2023-02-24T13:48:18.656189",
     "status": "completed"
    },
    "tags": []
   },
   "outputs": [],
   "source": [
    "xgb1=XGBRegressor(n_estimators=500, learning_rate=0.05, n_jobs=4)"
   ]
  },
  {
   "cell_type": "code",
   "execution_count": 25,
   "id": "8566f953",
   "metadata": {
    "execution": {
     "iopub.execute_input": "2023-02-24T13:48:18.701913Z",
     "iopub.status.busy": "2023-02-24T13:48:18.700885Z",
     "iopub.status.idle": "2023-02-24T13:48:18.706693Z",
     "shell.execute_reply": "2023-02-24T13:48:18.705596Z"
    },
    "papermill": {
     "duration": 0.020417,
     "end_time": "2023-02-24T13:48:18.709017",
     "exception": false,
     "start_time": "2023-02-24T13:48:18.688600",
     "status": "completed"
    },
    "tags": []
   },
   "outputs": [],
   "source": [
    "xgb1=XGBRegressor(n_estimators=500, learning_rate=0.05, n_jobs=4)"
   ]
  },
  {
   "cell_type": "code",
   "execution_count": 26,
   "id": "5473552a",
   "metadata": {
    "execution": {
     "iopub.execute_input": "2023-02-24T13:48:18.734060Z",
     "iopub.status.busy": "2023-02-24T13:48:18.733294Z",
     "iopub.status.idle": "2023-02-24T13:48:22.522338Z",
     "shell.execute_reply": "2023-02-24T13:48:22.521319Z"
    },
    "papermill": {
     "duration": 3.804655,
     "end_time": "2023-02-24T13:48:22.524876",
     "exception": false,
     "start_time": "2023-02-24T13:48:18.720221",
     "status": "completed"
    },
    "tags": []
   },
   "outputs": [
    {
     "name": "stderr",
     "output_type": "stream",
     "text": [
      "/opt/conda/lib/python3.7/site-packages/xgboost/sklearn.py:797: UserWarning: `early_stopping_rounds` in `fit` method is deprecated for better compatibility with scikit-learn, use `early_stopping_rounds` in constructor or`set_params` instead.\n",
      "  UserWarning,\n"
     ]
    },
    {
     "data": {
      "text/plain": [
       "XGBRegressor(base_score=0.5, booster='gbtree', callbacks=None,\n",
       "             colsample_bylevel=1, colsample_bynode=1, colsample_bytree=1,\n",
       "             early_stopping_rounds=None, enable_categorical=False,\n",
       "             eval_metric=None, gamma=0, gpu_id=-1, grow_policy='depthwise',\n",
       "             importance_type=None, interaction_constraints='',\n",
       "             learning_rate=0.05, max_bin=256, max_cat_to_onehot=4,\n",
       "             max_delta_step=0, max_depth=6, max_leaves=0, min_child_weight=1,\n",
       "             missing=nan, monotone_constraints='()', n_estimators=1000,\n",
       "             n_jobs=4, num_parallel_tree=1, predictor='auto', random_state=0,\n",
       "             reg_alpha=0, reg_lambda=1, ...)"
      ]
     },
     "execution_count": 26,
     "metadata": {},
     "output_type": "execute_result"
    }
   ],
   "source": [
    "#xgb1.fit(Xtrain_trans,y_train)\n",
    "xgb.fit(Xtrain_trans, y_train, \n",
    "             early_stopping_rounds=5, \n",
    "             eval_set=[(XValid_trans, y_valid)], \n",
    "             verbose=False)"
   ]
  },
  {
   "cell_type": "code",
   "execution_count": 27,
   "id": "8f1b2d52",
   "metadata": {
    "execution": {
     "iopub.execute_input": "2023-02-24T13:48:22.549411Z",
     "iopub.status.busy": "2023-02-24T13:48:22.548781Z",
     "iopub.status.idle": "2023-02-24T13:48:22.561304Z",
     "shell.execute_reply": "2023-02-24T13:48:22.560163Z"
    },
    "papermill": {
     "duration": 0.027873,
     "end_time": "2023-02-24T13:48:22.564163",
     "exception": false,
     "start_time": "2023-02-24T13:48:22.536290",
     "status": "completed"
    },
    "tags": []
   },
   "outputs": [],
   "source": [
    "ypred=xgb.predict(XValid_trans)\n",
    "#xgb1.predict(XValid_trans)"
   ]
  },
  {
   "cell_type": "code",
   "execution_count": 28,
   "id": "3f1b0448",
   "metadata": {
    "execution": {
     "iopub.execute_input": "2023-02-24T13:48:22.590414Z",
     "iopub.status.busy": "2023-02-24T13:48:22.589989Z",
     "iopub.status.idle": "2023-02-24T13:48:22.611469Z",
     "shell.execute_reply": "2023-02-24T13:48:22.610417Z"
    },
    "papermill": {
     "duration": 0.038568,
     "end_time": "2023-02-24T13:48:22.616109",
     "exception": false,
     "start_time": "2023-02-24T13:48:22.577541",
     "status": "completed"
    },
    "tags": []
   },
   "outputs": [
    {
     "name": "stdout",
     "output_type": "stream",
     "text": [
      "0.7706894364848388\n",
      "0.4233031135157479\n"
     ]
    }
   ],
   "source": [
    "print(xgb.score(Xtrain_trans,y_train))\n",
    "print(xgb.score(XValid_trans,y_valid))"
   ]
  },
  {
   "cell_type": "markdown",
   "id": "2e8ccb4f",
   "metadata": {
    "papermill": {
     "duration": 0.010821,
     "end_time": "2023-02-24T13:48:22.640273",
     "exception": false,
     "start_time": "2023-02-24T13:48:22.629452",
     "status": "completed"
    },
    "tags": []
   },
   "source": [
    "# Predicting test values"
   ]
  },
  {
   "cell_type": "code",
   "execution_count": 29,
   "id": "a823a0d1",
   "metadata": {
    "execution": {
     "iopub.execute_input": "2023-02-24T13:48:22.664343Z",
     "iopub.status.busy": "2023-02-24T13:48:22.663872Z",
     "iopub.status.idle": "2023-02-24T13:48:22.678780Z",
     "shell.execute_reply": "2023-02-24T13:48:22.677622Z"
    },
    "papermill": {
     "duration": 0.030361,
     "end_time": "2023-02-24T13:48:22.681718",
     "exception": false,
     "start_time": "2023-02-24T13:48:22.651357",
     "status": "completed"
    },
    "tags": []
   },
   "outputs": [],
   "source": [
    "output = pd.DataFrame(xgb.predict(test_trans))"
   ]
  },
  {
   "cell_type": "code",
   "execution_count": 30,
   "id": "2c797d63",
   "metadata": {
    "execution": {
     "iopub.execute_input": "2023-02-24T13:48:22.709811Z",
     "iopub.status.busy": "2023-02-24T13:48:22.709377Z",
     "iopub.status.idle": "2023-02-24T13:48:22.725688Z",
     "shell.execute_reply": "2023-02-24T13:48:22.724412Z"
    },
    "papermill": {
     "duration": 0.03205,
     "end_time": "2023-02-24T13:48:22.728219",
     "exception": false,
     "start_time": "2023-02-24T13:48:22.696169",
     "status": "completed"
    },
    "tags": []
   },
   "outputs": [],
   "source": [
    "Output = output.to_csv('/kaggle/working/Output.csv')"
   ]
  },
  {
   "cell_type": "code",
   "execution_count": null,
   "id": "766bdfb1",
   "metadata": {
    "papermill": {
     "duration": 0.010799,
     "end_time": "2023-02-24T13:48:22.750454",
     "exception": false,
     "start_time": "2023-02-24T13:48:22.739655",
     "status": "completed"
    },
    "tags": []
   },
   "outputs": [],
   "source": []
  }
 ],
 "metadata": {
  "kernelspec": {
   "display_name": "Python 3",
   "language": "python",
   "name": "python3"
  },
  "language_info": {
   "codemirror_mode": {
    "name": "ipython",
    "version": 3
   },
   "file_extension": ".py",
   "mimetype": "text/x-python",
   "name": "python",
   "nbconvert_exporter": "python",
   "pygments_lexer": "ipython3",
   "version": "3.7.12"
  },
  "papermill": {
   "default_parameters": {},
   "duration": 33.52093,
   "end_time": "2023-02-24T13:48:23.590718",
   "environment_variables": {},
   "exception": null,
   "input_path": "__notebook__.ipynb",
   "output_path": "__notebook__.ipynb",
   "parameters": {},
   "start_time": "2023-02-24T13:47:50.069788",
   "version": "2.3.4"
  }
 },
 "nbformat": 4,
 "nbformat_minor": 5
}
